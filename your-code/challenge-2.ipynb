{
 "cells": [
  {
   "cell_type": "markdown",
   "metadata": {},
   "source": [
    "## Challenge 2: Sets\n",
    "\n",
    "There are a lot to learn about Python Sets and the information presented in the lesson is limited due to its length. To learn Python Sets in depth you are strongly encouraged to review the W3Schools tutorial on [Python Sets Examples and Methods](https://www.w3schools.com/python/python_sets.asp) before you work on this lab. Some difficult questions in this lab have their solutions in the W3Schools tutorial.\n",
    "\n",
    "#### First, import the Python `random` library."
   ]
  },
  {
   "cell_type": "code",
   "execution_count": 74,
   "metadata": {},
   "outputs": [],
   "source": [
    "import random"
   ]
  },
  {
   "cell_type": "markdown",
   "metadata": {},
   "source": [
    "#### In the cell below, create a list named `sample_list_1` with 80 random values. \n",
    "\n",
    "Requirements:\n",
    "\n",
    "* Each value is an integer falling between 0 and 100.\n",
    "* Each value in the list is unique.\n",
    "\n",
    "Print `sample_list_1` to review its values\n",
    "\n",
    "*Hint: use `random.sample` ([reference](https://docs.python.org/3/library/random.html#random.sample)).*"
   ]
  },
  {
   "cell_type": "code",
   "execution_count": 75,
   "metadata": {},
   "outputs": [
    {
     "output_type": "stream",
     "name": "stdout",
     "text": "[84, 75, 69, 20, 8, 11, 91, 14, 37, 99, 21, 77, 16, 24, 86, 36, 96, 59, 53, 35, 81, 19, 100, 71, 70, 61, 57, 73, 29, 92, 83, 89, 62, 52, 94, 41, 43, 46, 55, 7, 47, 4, 76, 95, 56, 48, 38, 45, 78, 17, 90, 82, 98, 15, 50, 80, 44, 58, 1, 42, 26, 79, 87, 49, 22, 12, 67, 39, 66, 65, 60, 10, 32, 2, 34, 28, 85, 6, 72, 33]\n"
    }
   ],
   "source": [
    "contador=0\n",
    "sample_list_1=[]\n",
    "while contador <80:\n",
    "    item=(random.randint(0,100))\n",
    "    if item not in sample_list_1:\n",
    "        sample_list_1.append(item)\n",
    "        contador+=1\n",
    "\n",
    "print(sample_list_1)\n",
    "\n",
    "\n",
    ""
   ]
  },
  {
   "cell_type": "markdown",
   "metadata": {},
   "source": [
    "#### Convert `sample_list_1` to a set called `set1`. Print the length of the set. Is its length still 80?"
   ]
  },
  {
   "cell_type": "code",
   "execution_count": 76,
   "metadata": {},
   "outputs": [
    {
     "output_type": "stream",
     "name": "stdout",
     "text": "80\n"
    }
   ],
   "source": [
    "set1=set(sample_list_1)\n",
    "print(len(set1))\n",
    ""
   ]
  },
  {
   "cell_type": "markdown",
   "metadata": {},
   "source": [
    "#### Create another list named `sample_list_2` with 80 random values.\n",
    "\n",
    "Requirements:\n",
    "\n",
    "* Each value is an integer falling between 0 and 100.\n",
    "* The values in the list don't have to be unique.\n",
    "\n",
    "*Hint: Use a FOR loop and the `randrange()` function.*"
   ]
  },
  {
   "cell_type": "code",
   "execution_count": 77,
   "metadata": {},
   "outputs": [
    {
     "output_type": "stream",
     "name": "stdout",
     "text": "[34, 30, 3, 60, 58, 18, 100, 44, 86, 34, 65, 15, 68, 44, 67, 48, 98, 18, 15, 5, 4, 36, 73, 82, 82, 67, 16, 18, 27, 6, 75, 42, 98, 91, 48, 5, 63, 37, 20, 87, 91, 44, 70, 62, 22, 72, 65, 23, 6, 64, 82, 31, 94, 33, 78, 6, 24, 54, 82, 83, 78, 16, 98, 88, 24, 6, 87, 15, 0, 32, 79, 54, 61, 91, 16, 45, 1, 91, 8, 66]\n80\n"
    }
   ],
   "source": [
    "sample_list_2=[]\n",
    "for item in range(80):\n",
    "    numero=random.randint(0,100)\n",
    "    sample_list_2.append(numero)\n",
    "print(sample_list_2)\n",
    "print(len(sample_list_2))"
   ]
  },
  {
   "cell_type": "markdown",
   "metadata": {},
   "source": [
    "#### Convert `sample_list_2` to a set called `set2`. Print the length of the set. Is its length still 80?"
   ]
  },
  {
   "cell_type": "code",
   "execution_count": 78,
   "metadata": {},
   "outputs": [
    {
     "output_type": "stream",
     "name": "stdout",
     "text": "52\n"
    }
   ],
   "source": [
    "set2=set(sample_list_2)\n",
    "print(len(set2))\n",
    "#The len is NOT 80 because we accept repited numbers in the list"
   ]
  },
  {
   "cell_type": "markdown",
   "metadata": {},
   "source": [
    "#### Identify the elements present in `set1` but not in `set2`. Assign the elements to a new set named `set3`."
   ]
  },
  {
   "cell_type": "code",
   "execution_count": 79,
   "metadata": {},
   "outputs": [
    {
     "output_type": "stream",
     "name": "stdout",
     "text": "[2, 7, 10, 11, 12, 14, 17, 19, 21, 26, 28, 29, 35, 38, 39, 41, 43, 46, 47, 49, 50, 52, 53, 55, 56, 57, 59, 69, 71, 76, 77, 80, 81, 84, 85, 89, 90, 92, 95, 96, 99]\n{2, 7, 10, 11, 12, 14, 17, 19, 21, 26, 28, 29, 35, 38, 39, 41, 43, 46, 47, 49, 50, 52, 53, 55, 56, 57, 59, 69, 71, 76, 77, 80, 81, 84, 85, 89, 90, 92, 95, 96, 99}\n"
    }
   ],
   "source": [
    "list_set3=[]\n",
    "for item in set1:\n",
    "    if item not in set2:\n",
    "        list_set3.append(item)\n",
    "print(list_set3)\n",
    "len(list_set3)\n",
    "set3=set(list_set3)\n",
    "print(set3)"
   ]
  },
  {
   "cell_type": "markdown",
   "metadata": {},
   "source": [
    "#### Identify the elements present in `set2` but not in `set1`. Assign the elements to a new set named `set4`."
   ]
  },
  {
   "cell_type": "code",
   "execution_count": 80,
   "metadata": {},
   "outputs": [
    {
     "output_type": "stream",
     "name": "stdout",
     "text": "[0, 3, 5, 18, 23, 27, 30, 31, 54, 63, 64, 68, 88]\n{0, 64, 3, 68, 5, 18, 54, 23, 88, 27, 63, 30, 31}\n"
    }
   ],
   "source": [
    "list_set4=[]\n",
    "for item in set2:\n",
    "    if item not in set1:\n",
    "        list_set4.append(item)\n",
    "print(list_set4)\n",
    "len(list_set4)\n",
    "set4=set(list_set4)\n",
    "print(set4)\n",
    ""
   ]
  },
  {
   "cell_type": "markdown",
   "metadata": {},
   "source": [
    "#### Now Identify the elements shared between `set1` and `set2`. Assign the elements to a new set named `set5`."
   ]
  },
  {
   "cell_type": "code",
   "execution_count": 81,
   "metadata": {},
   "outputs": [
    {
     "output_type": "stream",
     "name": "stdout",
     "text": "[1, 4, 6, 8, 15, 16, 20, 22, 24, 32, 33, 34, 36, 37, 42, 44, 45, 48, 58, 60, 61, 62, 65, 66, 67, 70, 72, 73, 75, 78, 79, 82, 83, 86, 87, 91, 94, 98, 100]\n{1, 4, 6, 8, 15, 16, 20, 22, 24, 32, 33, 34, 36, 37, 42, 44, 45, 48, 58, 60, 61, 62, 65, 66, 67, 70, 72, 73, 75, 78, 79, 82, 83, 86, 87, 91, 94, 98, 100}\n"
    }
   ],
   "source": [
    "list_set5=[]\n",
    "for item in set1:\n",
    "    if item in set2:\n",
    "        list_set5.append(item)\n",
    "print(list_set5)\n",
    "len(list_set5)\n",
    "set5=set(list_set5)\n",
    "print(set5)\n",
    ""
   ]
  },
  {
   "cell_type": "markdown",
   "metadata": {},
   "source": [
    "#### What is the relationship among the following values:\n",
    "\n",
    "* len(set1)\n",
    "* len(set2)\n",
    "* len(set3)\n",
    "* len(set4)\n",
    "* len(set5)\n",
    "\n",
    "Think about the set operations that you used to create the sets and how the lengths of the sets are related to each other given those operations."
   ]
  },
  {
   "cell_type": "code",
   "execution_count": 82,
   "metadata": {},
   "outputs": [
    {
     "output_type": "stream",
     "name": "stdout",
     "text": "80\n52\n41\n13\n39\n"
    }
   ],
   "source": [
    "print(len(set1))\n",
    "print(len(set2))\n",
    "print(len(set3))\n",
    "print(len(set4))\n",
    "print(len(set5))"
   ]
  },
  {
   "cell_type": "markdown",
   "metadata": {},
   "source": [
    "#### Create an empty set called `set6`."
   ]
  },
  {
   "cell_type": "code",
   "execution_count": 83,
   "metadata": {},
   "outputs": [
    {
     "output_type": "execute_result",
     "data": {
      "text/plain": "set"
     },
     "metadata": {},
     "execution_count": 83
    }
   ],
   "source": [
    "set6=set()\n",
    "type(set6)\n",
    ""
   ]
  },
  {
   "cell_type": "markdown",
   "metadata": {},
   "source": [
    "#### Add `set3` and `set5` to `set6` using the Python Set `update` method."
   ]
  },
  {
   "cell_type": "code",
   "execution_count": 84,
   "metadata": {},
   "outputs": [
    {
     "output_type": "stream",
     "name": "stdout",
     "text": "{1, 2, 4, 6, 7, 8, 10, 11, 12, 14, 15, 16, 17, 19, 20, 21, 22, 24, 26, 28, 29, 32, 33, 34, 35, 36, 37, 38, 39, 41, 42, 43, 44, 45, 46, 47, 48, 49, 50, 52, 53, 55, 56, 57, 58, 59, 60, 61, 62, 65, 66, 67, 69, 70, 71, 72, 73, 75, 76, 77, 78, 79, 80, 81, 82, 83, 84, 85, 86, 87, 89, 90, 91, 92, 94, 95, 96, 98, 99, 100}\n"
    }
   ],
   "source": [
    "set6.update(set3,set5)\n",
    "print(set6)"
   ]
  },
  {
   "cell_type": "markdown",
   "metadata": {},
   "source": [
    "#### Check if `set1` and `set6` are equal."
   ]
  },
  {
   "cell_type": "code",
   "execution_count": 85,
   "metadata": {},
   "outputs": [
    {
     "output_type": "execute_result",
     "data": {
      "text/plain": "True"
     },
     "metadata": {},
     "execution_count": 85
    }
   ],
   "source": [
    "set1 == set6\n",
    ""
   ]
  },
  {
   "cell_type": "markdown",
   "metadata": {},
   "source": [
    "#### Check if `set1` contains `set2` using the Python Set `issubset` method. Then check if `set1` contains `set3`."
   ]
  },
  {
   "cell_type": "code",
   "execution_count": 86,
   "metadata": {},
   "outputs": [
    {
     "output_type": "stream",
     "name": "stdout",
     "text": "False\nFalse\n"
    }
   ],
   "source": [
    "print(set1.issubset(set2))\n",
    "print(set1.issubset(set3))"
   ]
  },
  {
   "cell_type": "markdown",
   "metadata": {},
   "source": [
    "#### Using the Python Set `union` method, aggregate `set3`, `set4`, and `set5`. Then aggregate `set1` and `set2`. \n",
    "\n",
    "#### Check if the aggregated values are equal."
   ]
  },
  {
   "cell_type": "code",
   "execution_count": 87,
   "metadata": {},
   "outputs": [
    {
     "output_type": "stream",
     "name": "stdout",
     "text": "{0, 1, 2, 3, 4, 5, 6, 7, 8, 10, 11, 12, 14, 15, 16, 17, 18, 19, 20, 21, 22, 23, 24, 26, 27, 28, 29, 30, 31, 32, 33, 34, 35, 36, 37, 38, 39, 41, 42, 43, 44, 45, 46, 47, 48, 49, 50, 52, 53, 54, 55, 56, 57, 58, 59, 60, 61, 62, 63, 64, 65, 66, 67, 68, 69, 70, 71, 72, 73, 75, 76, 77, 78, 79, 80, 81, 82, 83, 84, 85, 86, 87, 88, 89, 90, 91, 92, 94, 95, 96, 98, 99, 100}\n{0, 1, 2, 3, 4, 5, 6, 7, 8, 10, 11, 12, 14, 15, 16, 17, 18, 19, 20, 21, 22, 23, 24, 26, 27, 28, 29, 30, 31, 32, 33, 34, 35, 36, 37, 38, 39, 41, 42, 43, 44, 45, 46, 47, 48, 49, 50, 52, 53, 54, 55, 56, 57, 58, 59, 60, 61, 62, 63, 64, 65, 66, 67, 68, 69, 70, 71, 72, 73, 75, 76, 77, 78, 79, 80, 81, 82, 83, 84, 85, 86, 87, 88, 89, 90, 91, 92, 94, 95, 96, 98, 99, 100}\n"
    }
   ],
   "source": [
    "set_union=set.union(set3,set4,set5)\n",
    "print(set_union)\n",
    "set_union2=set.union(set1,set2)\n",
    "print(set_union2)\n",
    ""
   ]
  },
  {
   "cell_type": "markdown",
   "metadata": {},
   "source": [
    "#### Using the `pop` method, remove the first element from `set1`."
   ]
  },
  {
   "cell_type": "code",
   "execution_count": 90,
   "metadata": {},
   "outputs": [
    {
     "output_type": "execute_result",
     "data": {
      "text/plain": "1"
     },
     "metadata": {},
     "execution_count": 90
    }
   ],
   "source": [
    "set1.pop()"
   ]
  },
  {
   "cell_type": "markdown",
   "metadata": {},
   "source": [
    "#### Remove every element in the following list from `set1` if they are present in the set. Print the remaining elements.\n",
    "\n",
    "```\n",
    "list_to_remove = [1, 9, 11, 19, 21, 29, 31, 39, 41, 49, 51, 59, 61, 69, 71, 79, 81, 89, 91, 99]\n",
    "```"
   ]
  },
  {
   "cell_type": "code",
   "execution_count": 91,
   "metadata": {},
   "outputs": [
    {
     "output_type": "stream",
     "name": "stdout",
     "text": "{2, 4, 6, 7, 8, 10, 12, 14, 15, 16, 17, 20, 22, 24, 26, 28, 32, 33, 34, 35, 36, 37, 38, 42, 43, 44, 45, 46, 47, 48, 50, 52, 53, 55, 56, 57, 58, 60, 62, 65, 66, 67, 70, 72, 73, 75, 76, 77, 78, 80, 82, 83, 84, 85, 86, 87, 90, 92, 94, 95, 96, 98, 100}\n"
    }
   ],
   "source": [
    "list_to_remove = [1, 9, 11, 19, 21, 29, 31, 39, 41, 49, 51, 59, 61, 69, 71, 79, 81, 89, 91, 99]\n",
    "for item in list_to_remove:\n",
    "    set1.discard(item)\n",
    "print(set1)\n",
    ""
   ]
  }
 ],
 "metadata": {
  "kernelspec": {
   "display_name": "Python 3",
   "language": "python",
   "name": "python3"
  },
  "language_info": {
   "codemirror_mode": {
    "name": "ipython",
    "version": 3
   },
   "file_extension": ".py",
   "mimetype": "text/x-python",
   "name": "python",
   "nbconvert_exporter": "python",
   "pygments_lexer": "ipython3",
   "version": "3.7.4-final"
  }
 },
 "nbformat": 4,
 "nbformat_minor": 2
}